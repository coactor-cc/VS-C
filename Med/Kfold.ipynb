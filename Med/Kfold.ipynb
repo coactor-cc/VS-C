{
 "cells": [
  {
   "cell_type": "code",
   "execution_count": 1,
   "metadata": {},
   "outputs": [],
   "source": [
    "import xgboost as xgb\n",
    "from xgboost import plot_importance\n",
    "from matplotlib import pyplot as plt\n",
    "from sklearn.model_selection import train_test_split\n",
    "import pandas as pd\n",
    "from sklearn.model_selection import KFold\n",
    "from sklearn.model_selection import cross_val_score"
   ]
  },
  {
   "cell_type": "code",
   "execution_count": 2,
   "metadata": {},
   "outputs": [],
   "source": [
    "# 读取Excel文件\n",
    "x =pd.DataFrame(pd.read_excel(r'C:\\Users\\coactor\\Desktop\\项目\\生医学\\task1.xlsx')) \n",
    "y =pd.DataFrame(pd.read_excel(r'C:\\Users\\coactor\\Desktop\\项目\\生医学\\task1.xlsx',sheet_name='Sheet2')) \n"
   ]
  },
  {
   "cell_type": "code",
   "execution_count": 3,
   "metadata": {},
   "outputs": [],
   "source": [
    "kf = KFold(n_splits=10, shuffle=True, random_state=42)"
   ]
  },
  {
   "cell_type": "code",
   "execution_count": 4,
   "metadata": {},
   "outputs": [],
   "source": [
    "model = xgb.XGBClassifier()"
   ]
  },
  {
   "cell_type": "code",
   "execution_count": 5,
   "metadata": {},
   "outputs": [],
   "source": [
    "# 使用cross_val_score进行十折交叉验证\n",
    "scores = cross_val_score(model, x, y, cv=kf)"
   ]
  },
  {
   "cell_type": "markdown",
   "metadata": {},
   "source": [
    "cross_val_score函数接受模型、特征数据X、目标数据y以及交叉验证的分割方式cv，然后返回一个分数数组，每个分数对应于一次交叉验证的结果。最后，我们打印出了每次验证的分数和平均分数。"
   ]
  },
  {
   "cell_type": "code",
   "execution_count": 6,
   "metadata": {},
   "outputs": [
    {
     "name": "stdout",
     "output_type": "stream",
     "text": [
      "每次验证的分数: [0.97123519 0.97715736 0.97375106 0.97121084 0.96951736 0.96782388\n",
      " 0.9661304  0.9788315  0.97205758 0.97375106]\n",
      "平均分数: 0.9721466221375961\n"
     ]
    }
   ],
   "source": [
    "# 打印每次验证的分数和平均分数\n",
    "print(\"每次验证的分数:\", scores)\n",
    "print(\"平均分数:\", scores.mean())"
   ]
  }
 ],
 "metadata": {
  "kernelspec": {
   "display_name": "Python 3",
   "language": "python",
   "name": "python3"
  },
  "language_info": {
   "codemirror_mode": {
    "name": "ipython",
    "version": 3
   },
   "file_extension": ".py",
   "mimetype": "text/x-python",
   "name": "python",
   "nbconvert_exporter": "python",
   "pygments_lexer": "ipython3",
   "version": "3.10.0"
  },
  "orig_nbformat": 4
 },
 "nbformat": 4,
 "nbformat_minor": 2
}

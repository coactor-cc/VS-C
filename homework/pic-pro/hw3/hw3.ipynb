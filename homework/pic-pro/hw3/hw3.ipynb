{
 "cells": [
  {
   "cell_type": "code",
   "execution_count": null,
   "metadata": {},
   "outputs": [],
   "source": [
    "import cv2\n",
    "import numpy as np\n",
    "import matplotlib.pyplot as plt"
   ]
  },
  {
   "cell_type": "code",
   "execution_count": null,
   "metadata": {},
   "outputs": [],
   "source": [
    "from matplotlib import rcParams\n",
    "# 设置中文字体\n",
    "rcParams['font.sans-serif'] = ['SimHei']  # 指定黑体（或其他支持中文的字体）\n",
    "rcParams['axes.unicode_minus'] = False  # 解决负号显示问题"
   ]
  },
  {
   "cell_type": "code",
   "execution_count": null,
   "metadata": {},
   "outputs": [],
   "source": [
    "# 读取图像\n",
    "img = cv2.imread('car-moire-pattern.tif', cv2.IMREAD_GRAYSCALE)\n",
    "# 获取图像尺寸\n",
    "rows, cols = img.shape\n",
    "print(rows, cols)"
   ]
  },
  {
   "cell_type": "code",
   "execution_count": null,
   "metadata": {},
   "outputs": [],
   "source": [
    "# 应用傅里叶变换\n",
    "dft = cv2.dft(np.float32(img), flags=cv2.DFT_COMPLEX_OUTPUT)\n",
    "dft_shift = np.fft.fftshift(dft)"
   ]
  },
  {
   "cell_type": "code",
   "execution_count": null,
   "metadata": {},
   "outputs": [],
   "source": [
    "# 计算幅度谱\n",
    "magnitude_spectrum = 20 * np.log(cv2.magnitude(dft_shift[:, :, 0], dft_shift[:, :, 1]))\n",
    "\n",
    "# 归一化幅度谱\n",
    "magnitude_spectrum_normalized = cv2.normalize(magnitude_spectrum, None, 0, 255, cv2.NORM_MINMAX)\n",
    "\n",
    "# 转换为8位无符号整型\n",
    "magnitude_spectrum_8u = cv2.convertScaleAbs(magnitude_spectrum_normalized)\n",
    "\n",
    "\n",
    "# 使用matplotlib显示幅度谱\n",
    "plt.figure(figsize=(10, 5))\n",
    "plt.subplot(132), plt.imshow(magnitude_spectrum_8u, cmap='gray')\n",
    "plt.axis('off')"
   ]
  },
  {
   "cell_type": "code",
   "execution_count": null,
   "metadata": {},
   "outputs": [],
   "source": [
    "# 用于存储点击的点的坐标\n",
    "noise_centers = []\n",
    "\n",
    "# 鼠标回调函数，用于记录点击位置\n",
    "def get_mouse_click(event, x, y, flags, param):\n",
    "    if event == cv2.EVENT_LBUTTONDOWN:  # 检测到鼠标左键点击\n",
    "        noise_centers.append((y, x))  # 保存坐标\n",
    "        print(f\"Point {len(noise_centers)}: ({y}, {x})\")\n",
    "        # 在图像上绘制点击的点\n",
    "        cv2.circle(param, (x, y), 5, (0, 0, 255), -1)\n",
    "        cv2.imshow('Select Points', param)\n",
    "        if len(noise_centers) == 8:  # 当点击八个点后，自动退出\n",
    "            cv2.destroyAllWindows()"
   ]
  },
  {
   "cell_type": "code",
   "execution_count": null,
   "metadata": {},
   "outputs": [],
   "source": [
    "# 显示图像，并设置鼠标回调函数\n",
    "cv2.imshow('Select Points', magnitude_spectrum_8u)\n",
    "cv2.setMouseCallback('Select Points', get_mouse_click, magnitude_spectrum_8u)\n",
    "\n",
    "# 等待用户点击八个点\n",
    "cv2.waitKey(0)\n",
    "\n",
    "# 输出点击的点坐标\n",
    "print(\"Selected Points:\", noise_centers)\n",
    "\n",
    "# 等待并关闭所有窗口\n",
    "cv2.destroyAllWindows()"
   ]
  },
  {
   "cell_type": "code",
   "execution_count": null,
   "metadata": {},
   "outputs": [],
   "source": [
    "# 假设 noise_centers 是一个包含 (x, y) 坐标的列表\n",
    "for center in noise_centers:\n",
    "    x, y = center  # 解包元组以获取 x 和 y 坐标\n",
    "    if 0 <= x < cols and 0 <= y < rows:\n",
    "        print(f\"({x}, {y}) is within the image boundaries.\")\n",
    "    else:\n",
    "        print(f\"({x}, {y}) is out of the image boundaries.\")\n",
    "          \n",
    "          "
   ]
  },
  {
   "cell_type": "code",
   "execution_count": null,
   "metadata": {},
   "outputs": [],
   "source": [
    "# 在频谱图上标记陷波中心\n",
    "plt.figure(figsize=(6, 6))\n",
    "plt.imshow(magnitude_spectrum_8u, cmap='gray')\n",
    "plt.title('Magnitude Spectrum with Notch Centers')\n",
    "\n",
    "# 绘制红点标记陷波中心\n",
    "for center in noise_centers:\n",
    "    plt.scatter(center[1], center[0], color='red')  # 注意：matplotlib的坐标系与OpenCV的坐标系不同\n",
    "\n",
    "plt.xticks([]), plt.yticks([])\n",
    "plt.show()"
   ]
  },
  {
   "cell_type": "code",
   "execution_count": null,
   "metadata": {},
   "outputs": [],
   "source": [
    "# # 巴特沃斯陷波带阻滤波器函数\n",
    "# def butterworth_bandstop_filter(shape, center, D0, n):\n",
    "#     rows, cols = shape\n",
    "#     mask = np.zeros((rows, cols, 2), np.float32)  # 初始化为全0（黑色）\n",
    "#     for i in range(rows):\n",
    "#         for j in range(cols):\n",
    "#             distance = np.sqrt((i - center[0])**2 + (j - center[1])**2)\n",
    "#             if distance <= D0:  # 陷波区域\n",
    "#                 mask[i, j, 0] = 0  # 保持黑色\n",
    "#                 mask[i, j, 1] = 0\n",
    "#             else:  # 非陷波区域\n",
    "#                 mask[i, j, 0] = 1  # 设置为白色\n",
    "#                 mask[i, j, 1] = 0\n",
    "#     return mask"
   ]
  },
  {
   "cell_type": "code",
   "execution_count": null,
   "metadata": {},
   "outputs": [],
   "source": [
    "# 巴特沃斯陷波带阻滤波器函数\n",
    "def butterworth_bandstop_filter(shape, center, D0, n):\n",
    "    rows, cols = shape\n",
    "    mask = np.ones((rows, cols), np.float32)  # 初始化为全1（白色）\n",
    "    for i in range(rows):\n",
    "        for j in range(cols):\n",
    "            distance = np.sqrt((i - center[0])**2 + (j - center[1])**2)\n",
    "            # 巴特沃斯滤波器公式\n",
    "            mask[i, j] = 1 / (1 + (distance / D0)**(2 * n))\n",
    "    return mask"
   ]
  },
  {
   "cell_type": "code",
   "execution_count": null,
   "metadata": {},
   "outputs": [],
   "source": [
    "# # 设定陷波参数\n",
    "# D0 = 9\n",
    "# n = 4\n",
    "# # 创建滤波器掩模\n",
    "# mask = np.ones((rows, cols, 2), np.float32)\n",
    "# for center in noise_centers:\n",
    "#     new_mask = butterworth_bandstop_filter((rows, cols), center, D0, n)\n",
    "#     # 使用逐元素相乘来组合掩膜\n",
    "#     mask = np.multiply(mask, new_mask)\n",
    "# # 应用滤波器\n",
    "# fshift = dft_shift * mask"
   ]
  },
  {
   "cell_type": "code",
   "execution_count": null,
   "metadata": {},
   "outputs": [],
   "source": [
    "# 设定陷波参数\n",
    "D0 = 9\n",
    "n = 4\n",
    "# 创建滤波器掩模\n",
    "mask = np.ones((rows, cols, 2), np.float32)  # 初始化为全1（白色），形状为 (rows, cols, 2)\n",
    "for center in noise_centers:\n",
    "    new_mask = butterworth_bandstop_filter((rows, cols), center, D0, n)\n",
    "    new_mask = new_mask[..., np.newaxis]  # 将 new_mask 扩展为 (rows, cols, 1)\n",
    "    \n",
    "    # 使用逐元素相乘来组合掩膜，扩展后的 new_mask 变为 (rows, cols, 2)\n",
    "    mask = np.multiply(mask, np.repeat(new_mask, 2, axis=-1))  # 将 new_mask 重复两次，沿第三轴\n",
    "\n",
    "\n",
    "# 应用滤波器\n",
    "fshift =dft_shift * mask  # 将掩模应用到频谱上"
   ]
  },
  {
   "cell_type": "code",
   "execution_count": null,
   "metadata": {},
   "outputs": [],
   "source": [
    "# 显示滤波器掩模与傅里叶变换结果相乘的效果\n",
    "magnitude_spectrum_filtered = 20 * np.log(cv2.magnitude(fshift[:, :, 0], fshift[:, :, 1]) + 1e-10)\n",
    "\n",
    "plt.figure(figsize=(12, 9))\n",
    "plt.subplot(221), plt.imshow(img, cmap='gray')\n",
    "plt.title('Input Image'), plt.xticks([]), plt.yticks([])\n",
    "plt.subplot(222), plt.imshow(magnitude_spectrum, cmap='gray')\n",
    "plt.title('Magnitude Spectrum'), plt.xticks([]), plt.yticks([])\n",
    "plt.subplot(223), plt.imshow(mask[..., 0], cmap='gray')\n",
    "plt.title('Filter Mask'), plt.xticks([]), plt.yticks([])\n",
    "plt.subplot(224), plt.imshow(magnitude_spectrum_filtered, cmap='gray')\n",
    "plt.title('Filtered Spectrum'), plt.xticks([]), plt.yticks([])\n",
    "plt.show()"
   ]
  },
  {
   "cell_type": "code",
   "execution_count": null,
   "metadata": {},
   "outputs": [],
   "source": [
    "# 逆傅里叶变换\n",
    "f_ishift = np.fft.ifftshift(fshift)\n",
    "img_back = cv2.idft(f_ishift)\n",
    "img_back = cv2.magnitude(img_back[:, :, 0], img_back[:, :, 1])\n",
    "\n",
    "# 使用matplotlib显示结果\n",
    "plt.figure(figsize=(12, 6))\n",
    "plt.subplot(131), plt.imshow(img, cmap='gray')\n",
    "plt.title('Input Image'), plt.xticks([]), plt.yticks([])\n",
    "plt.subplot(132), plt.imshow(img_back, cmap='gray')\n",
    "plt.title('Image after Filtering'), plt.xticks([]), plt.yticks([])\n",
    "plt.show()"
   ]
  }
 ],
 "metadata": {
  "kernelspec": {
   "display_name": "Python 3",
   "language": "python",
   "name": "python3"
  },
  "language_info": {
   "codemirror_mode": {
    "name": "ipython",
    "version": 3
   },
   "file_extension": ".py",
   "mimetype": "text/x-python",
   "name": "python",
   "nbconvert_exporter": "python",
   "pygments_lexer": "ipython3",
   "version": "3.10.3"
  }
 },
 "nbformat": 4,
 "nbformat_minor": 2
}

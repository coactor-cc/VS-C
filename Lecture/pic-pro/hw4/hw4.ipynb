{
 "cells": [
  {
   "cell_type": "markdown",
   "metadata": {},
   "source": [
    "【作业4内容】 \n",
    "\n",
    "作业4-1： 基于提供的心脏CTA数据，利用形态学算子实现肺部血管的滤除； \n",
    "\n",
    "作业4-2： 基于提供的心脏CTA数据以及心脏各部分标签，实现基于多模板配准的心腔分割算法；"
   ]
  },
  {
   "cell_type": "code",
   "execution_count": null,
   "metadata": {
    "vscode": {
     "languageId": "plaintext"
    }
   },
   "outputs": [],
   "source": []
  }
 ],
 "metadata": {
  "language_info": {
   "name": "python"
  }
 },
 "nbformat": 4,
 "nbformat_minor": 2
}

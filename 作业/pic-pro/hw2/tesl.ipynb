{
 "cells": [
  {
   "cell_type": "code",
   "execution_count": 8,
   "metadata": {},
   "outputs": [],
   "source": [
    "import cv2\n",
    "import numpy as np\n",
    "import matplotlib.pyplot as plt\n",
    "\n"
   ]
  },
  {
   "cell_type": "code",
   "execution_count": 9,
   "metadata": {},
   "outputs": [
    {
     "name": "stdout",
     "output_type": "stream",
     "text": [
      "错误：图像未找到或无法加载。\n"
     ]
    }
   ],
   "source": [
    "# 加载图像\n",
    "image_path = '血管实验数据/IMG/C.png'  # 替换为你的血管图像路径\n",
    "image = cv2.imread(image_path, cv2.IMREAD_GRAYSCALE)\n",
    "# 检查图像是否加载成功\n",
    "if image is None:\n",
    "    print(\"错误：图像未找到或无法加载。\")\n",
    "else:\n",
    "    print(\"图像加载成功。\")\n",
    "\n"
   ]
  },
  {
   "cell_type": "code",
   "execution_count": 10,
   "metadata": {},
   "outputs": [
    {
     "ename": "error",
     "evalue": "OpenCV(4.10.0) D:\\a\\opencv-python\\opencv-python\\opencv\\modules\\imgproc\\src\\filter.dispatch.cpp:1528: error: (-215:Assertion failed) !_src.empty() in function 'cv::filter2D'\n",
     "output_type": "error",
     "traceback": [
      "\u001b[1;31m---------------------------------------------------------------------------\u001b[0m",
      "\u001b[1;31merror\u001b[0m                                     Traceback (most recent call last)",
      "Cell \u001b[1;32mIn[10], line 10\u001b[0m\n\u001b[0;32m      5\u001b[0m laplacian_filter \u001b[38;5;241m=\u001b[39m np\u001b[38;5;241m.\u001b[39marray([[\u001b[38;5;241m0\u001b[39m, \u001b[38;5;241m1\u001b[39m, \u001b[38;5;241m0\u001b[39m],\n\u001b[0;32m      6\u001b[0m                              [\u001b[38;5;241m1\u001b[39m, \u001b[38;5;241m-\u001b[39m\u001b[38;5;241m4\u001b[39m, \u001b[38;5;241m1\u001b[39m],\n\u001b[0;32m      7\u001b[0m                              [\u001b[38;5;241m0\u001b[39m, \u001b[38;5;241m1\u001b[39m, \u001b[38;5;241m0\u001b[39m]])\n\u001b[0;32m      9\u001b[0m \u001b[38;5;66;03m# 使用Laplacian滤波器进行卷积操作，突出细长血管结构\u001b[39;00m\n\u001b[1;32m---> 10\u001b[0m filtered_image \u001b[38;5;241m=\u001b[39m \u001b[43mcv2\u001b[49m\u001b[38;5;241;43m.\u001b[39;49m\u001b[43mfilter2D\u001b[49m\u001b[43m(\u001b[49m\u001b[43mimage\u001b[49m\u001b[43m,\u001b[49m\u001b[43m \u001b[49m\u001b[38;5;241;43m-\u001b[39;49m\u001b[38;5;241;43m1\u001b[39;49m\u001b[43m,\u001b[49m\u001b[43m \u001b[49m\u001b[43mlaplacian_filter\u001b[49m\u001b[43m)\u001b[49m\n\u001b[0;32m     12\u001b[0m \u001b[38;5;66;03m# 增强图像，增加对比度\u001b[39;00m\n\u001b[0;32m     13\u001b[0m enhanced_image \u001b[38;5;241m=\u001b[39m cv2\u001b[38;5;241m.\u001b[39maddWeighted(image, \u001b[38;5;241m1.5\u001b[39m, filtered_image, \u001b[38;5;241m0.5\u001b[39m, \u001b[38;5;241m0\u001b[39m)\n",
      "\u001b[1;31merror\u001b[0m: OpenCV(4.10.0) D:\\a\\opencv-python\\opencv-python\\opencv\\modules\\imgproc\\src\\filter.dispatch.cpp:1528: error: (-215:Assertion failed) !_src.empty() in function 'cv::filter2D'\n"
     ]
    }
   ],
   "source": [
    "\n",
    "# 图像预处理：归一化处理，灰度化\n",
    "image = cv2.equalizeHist(image)  # 直方图均衡化，增加对比度\n",
    "\n",
    "# 定义Laplacian滤波器\n",
    "laplacian_filter = np.array([[0, 1, 0],\n",
    "                             [1, -4, 1],\n",
    "                             [0, 1, 0]])\n",
    "\n",
    "# 使用Laplacian滤波器进行卷积操作，突出细长血管结构\n",
    "filtered_image = cv2.filter2D(image, -1, laplacian_filter)\n",
    "\n",
    "# 增强图像，增加对比度\n",
    "enhanced_image = cv2.addWeighted(image, 1.5, filtered_image, 0.5, 0)\n",
    "\n"
   ]
  },
  {
   "cell_type": "code",
   "execution_count": null,
   "metadata": {},
   "outputs": [],
   "source": [
    "# 显示原图和增强图\n",
    "plt.figure(figsize=(10, 5))\n",
    "plt.subplot(1, 2, 1)\n",
    "plt.imshow(image, cmap='gray')\n",
    "plt.title('原始图像')\n",
    "plt.axis('off')\n",
    "\n",
    "plt.subplot(1, 2, 2)\n",
    "plt.imshow(enhanced_image, cmap='gray')\n",
    "plt.title('增强后的图像')\n",
    "plt.axis('off')\n",
    "\n",
    "plt.show()\n",
    "\n",
    "# 保存增强后的图像\n",
    "cv2.imwrite('enhanced_vascular_image.jpg', enhanced_image)"
   ]
  }
 ],
 "metadata": {
  "kernelspec": {
   "display_name": "Python 3",
   "language": "python",
   "name": "python3"
  },
  "language_info": {
   "codemirror_mode": {
    "name": "ipython",
    "version": 3
   },
   "file_extension": ".py",
   "mimetype": "text/x-python",
   "name": "python",
   "nbconvert_exporter": "python",
   "pygments_lexer": "ipython3",
   "version": "3.10.3"
  }
 },
 "nbformat": 4,
 "nbformat_minor": 2
}

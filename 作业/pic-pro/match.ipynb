{
 "cells": [
  {
   "cell_type": "code",
   "execution_count": 38,
   "metadata": {},
   "outputs": [],
   "source": [
    "import cv2#opencv读取的格式是BGR\n",
    "import matplotlib.pyplot as plt\n",
    "import numpy as np "
   ]
  },
  {
   "cell_type": "markdown",
   "metadata": {},
   "source": [
    "test"
   ]
  },
  {
   "cell_type": "code",
   "execution_count": 39,
   "metadata": {},
   "outputs": [],
   "source": [
    "img=cv2.imread('../data/characterTestPattern688.tif')\n",
    "cv2.imshow(\"img\",img)\n",
    "cv2.waitKey(0)\n",
    "cv2.destroyAllWindows()\n"
   ]
  },
  {
   "cell_type": "code",
   "execution_count": 41,
   "metadata": {},
   "outputs": [
    {
     "data": {
      "text/plain": [
       "(688, 688, 3)"
      ]
     },
     "execution_count": 41,
     "metadata": {},
     "output_type": "execute_result"
    }
   ],
   "source": [
    "img.shape"
   ]
  },
  {
   "cell_type": "code",
   "execution_count": 42,
   "metadata": {},
   "outputs": [],
   "source": [
    "def cv_show(name,img):\n",
    "    cv2.imshow(name,img) \n",
    "    cv2.waitKey(0) \n",
    "    cv2.destroyAllWindows()"
   ]
  },
  {
   "cell_type": "markdown",
   "metadata": {},
   "source": [
    "hw1"
   ]
  },
  {
   "cell_type": "code",
   "execution_count": 43,
   "metadata": {},
   "outputs": [],
   "source": [
    "before=cv2.imread('../data/after.jpg')\n",
    "after=cv2.imread(\"../data/before.jpg\")"
   ]
  },
  {
   "cell_type": "code",
   "execution_count": 44,
   "metadata": {},
   "outputs": [
    {
     "data": {
      "text/plain": [
       "(501, 385, 3)"
      ]
     },
     "execution_count": 44,
     "metadata": {},
     "output_type": "execute_result"
    }
   ],
   "source": [
    "before.shape\n"
   ]
  },
  {
   "cell_type": "code",
   "execution_count": 45,
   "metadata": {},
   "outputs": [
    {
     "data": {
      "text/plain": [
       "(603, 445, 3)"
      ]
     },
     "execution_count": 45,
     "metadata": {},
     "output_type": "execute_result"
    }
   ],
   "source": [
    "after.shape"
   ]
  },
  {
   "cell_type": "code",
   "execution_count": 24,
   "metadata": {},
   "outputs": [],
   "source": [
    "cv_show('11',before)\n",
    "cv_show('22',after)"
   ]
  },
  {
   "cell_type": "code",
   "execution_count": 46,
   "metadata": {},
   "outputs": [],
   "source": [
    "# 仿射变换\n",
    "rows, cols = before.shape[:2]\n",
    "# 假设我们想要将图像的左上角、右上角和左下角的点映射到新的位置\n",
    "src_points = np.float32([[0, 0], [cols - 1, 0], [0, rows - 1]])\n",
    "dst_points = np.float32([[10, 10], [cols - 20, 15], [10, rows - 20]])\n",
    "\n",
    "# 计算仿射变换矩阵\n",
    "M = cv2.getAffineTransform(src_points, dst_points)\n",
    "\n",
    "# 应用仿射变换\n",
    "affine_transformed_image = cv2.warpAffine(before, M, (cols, rows))\n",
    "\n",
    "# 显示原图和变换后的图像\n",
    "cv2.imshow('Original Image', before)\n",
    "cv2.imshow('Affine Transformed Image', affine_transformed_image)\n",
    "cv2.waitKey(0)\n",
    "cv2.destroyAllWindows()"
   ]
  },
  {
   "cell_type": "code",
   "execution_count": 47,
   "metadata": {},
   "outputs": [],
   "source": [
    "# Convert to grayscale.\n",
    "img1 = cv2.cvtColor(before, cv2.COLOR_BGR2GRAY)\n",
    "img2 = cv2.cvtColor(after, cv2.COLOR_BGR2GRAY)\n",
    "height, width = img2.shape"
   ]
  },
  {
   "cell_type": "code",
   "execution_count": 48,
   "metadata": {},
   "outputs": [],
   "source": [
    "# Create ORB detector with 5000 features.\n",
    "orb_detector = cv2.ORB_create(5000)"
   ]
  },
  {
   "cell_type": "code",
   "execution_count": 49,
   "metadata": {},
   "outputs": [],
   "source": [
    "# Find keypoints and descriptors.\n",
    "# The first arg is the image, second arg is the mask\n",
    "#  (which is not required in this case).\n",
    "kp1, d1 = orb_detector.detectAndCompute(img1, None)\n",
    "kp2, d2 = orb_detector.detectAndCompute(img2, None)"
   ]
  },
  {
   "cell_type": "code",
   "execution_count": 50,
   "metadata": {},
   "outputs": [],
   "source": [
    "# Match features between the two images.\n",
    "# We create a Brute Force matcher with\n",
    "# Hamming distance as measurement mode.\n",
    "matcher = cv2.BFMatcher(cv2.NORM_HAMMING, crossCheck = True)"
   ]
  },
  {
   "cell_type": "code",
   "execution_count": 51,
   "metadata": {},
   "outputs": [
    {
     "data": {
      "text/plain": [
       "True"
      ]
     },
     "execution_count": 51,
     "metadata": {},
     "output_type": "execute_result"
    }
   ],
   "source": [
    "# Match the two sets of descriptors.\n",
    "matches =list(matcher.match(d1, d2)) \n",
    "# Sort matches on the basis of their Hamming distance.\n",
    "matches.sort(key = lambda x: x.distance)\n",
    "\n",
    "# Take the top 90 % matches forward.\n",
    "matches = matches[:int(len(matches)*0.9)]\n",
    "no_of_matches = len(matches)\n",
    "\n",
    "# Define empty matrices of shape no_of_matches * 2.\n",
    "p1 = np.zeros((no_of_matches, 2))\n",
    "p2 = np.zeros((no_of_matches, 2))\n",
    "\n",
    "for i in range(len(matches)):\n",
    "  p1[i, :] = kp1[matches[i].queryIdx].pt\n",
    "  p2[i, :] = kp2[matches[i].trainIdx].pt\n",
    "\n",
    "# Find the homography matrix.\n",
    "homography, mask = cv2.findHomography(p1, p2, cv2.RANSAC)\n",
    "\n",
    "# Use this matrix to transform the\n",
    "# colored image wrt the reference image.\n",
    "transformed_img = cv2.warpPerspective(before,\n",
    "                    homography, (width, height))\n",
    "\n",
    "# Save the output.\n",
    "cv2.imwrite('output.jpg', transformed_img)"
   ]
  }
 ],
 "metadata": {
  "kernelspec": {
   "display_name": "Python 3",
   "language": "python",
   "name": "python3"
  },
  "language_info": {
   "codemirror_mode": {
    "name": "ipython",
    "version": 3
   },
   "file_extension": ".py",
   "mimetype": "text/x-python",
   "name": "python",
   "nbconvert_exporter": "python",
   "pygments_lexer": "ipython3",
   "version": "3.10.0"
  },
  "orig_nbformat": 4
 },
 "nbformat": 4,
 "nbformat_minor": 2
}

{
 "cells": [
  {
   "cell_type": "code",
   "execution_count": 1,
   "metadata": {},
   "outputs": [],
   "source": [
    "S1=1570250641.31\n",
    "S2=1658332236.35\n",
    "S3=1787985495.93\n",
    "\n",
    "D1=1258483300.00\n",
    "D2=1104201200.00\n",
    "D3=1158380200.00\n",
    "\n",
    "R1=1719109099.18\n",
    "R2=2223283366.59\n",
    "R3=2488038598.43\n",
    "\n",
    "# **2021年：**\n",
    "# - 实际发放工资总额 (S1)：1,570,250,641.31元\n",
    "# - 教育拨款基本支出 (D1)：1,258,483,300.00元\n",
    "# - 总收入 (R1)：1,719,109,099.18元\n",
    "\n",
    "# **2022年：**\n",
    "# - 实际发放工资总额 (S2)：1,658,332,236.35元\n",
    "# - 教育拨款基本支出 (D2)：1,104,201,200.00元\n",
    "# - 总收入 (R2)：2,223,283,366.59元\n",
    "\n",
    "# **2023年：**\n",
    "# - 实际发放工资总额 (S3)：1,787,985,495.93元\n",
    "# - 教育拨款基本支出 (D3)：1,158,380,200.00元\n",
    "# - 总收入 (R3)：2,488,038,598.43元\n",
    "\n",
    "\n"
   ]
  },
  {
   "cell_type": "code",
   "execution_count": 3,
   "metadata": {},
   "outputs": [
    {
     "name": "stdout",
     "output_type": "stream",
     "text": [
      "0.5140307154136033\n"
     ]
    }
   ],
   "source": [
    "x=((S1-D1)+(S2-D2)+(S3-D3))/((R1-D1)+(R2-D2)+(R3-D3))   \n",
    "print(x)"
   ]
  },
  {
   "cell_type": "code",
   "execution_count": 12,
   "metadata": {},
   "outputs": [
    {
     "name": "stdout",
     "output_type": "stream",
     "text": [
      "539418.2759569722\n"
     ]
    }
   ],
   "source": [
    "C= 460000\n",
    "S=C*(1.05*x)/(1-1.05*x)\n",
    "print(S)"
   ]
  },
  {
   "cell_type": "markdown",
   "metadata": {},
   "source": [
    "α= \n",
    "2910366364.20\n",
    "1495503673.59\n",
    "​≈0.5136"
   ]
  },
  {
   "cell_type": "code",
   "execution_count": null,
   "metadata": {},
   "outputs": [],
   "source": []
  }
 ],
 "metadata": {
  "kernelspec": {
   "display_name": "Python 3",
   "language": "python",
   "name": "python3"
  },
  "language_info": {
   "codemirror_mode": {
    "name": "ipython",
    "version": 3
   },
   "file_extension": ".py",
   "mimetype": "text/x-python",
   "name": "python",
   "nbconvert_exporter": "python",
   "pygments_lexer": "ipython3",
   "version": "3.10.3"
  }
 },
 "nbformat": 4,
 "nbformat_minor": 2
}
